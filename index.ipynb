{
  "cells": [
    {
      "cell_type": "raw",
      "metadata": {},
      "source": [
        "---\n",
        "format: html\n",
        "editor: visual\n",
        "lang: en\n",
        "---"
      ],
      "id": "5958e0f0"
    },
    {
      "cell_type": "markdown",
      "metadata": {},
      "source": [
        "# Overview {.unnumbered}\n",
        "\n",
        "\"Academic discourse and its grammar not only are like a forest that doesn't allow us to distinguish between individual trees but also go a step further, forcing the researcher to cut the trees down in order to understand the forest.\" *Paul B. Preciado, Countersexual Manifesto*\n",
        "\n",
        "\n",
        "\n",
        "\n",
        "```{js}\n",
        "src='https://storage.ko-fi.com/cdn/scripts/overlay-widget.js';\n",
        "  kofiWidgetOverlay.draw('rafaelbastos', {\n",
        "    'type': 'floating-chat',\n",
        "    'floating-chat.donateButton.text': 'Support me',\n",
        "    'floating-chat.donateButton.background-color': '#5bc0de',\n",
        "    'floating-chat.donateButton.text-color': '#323842'\n",
        "  });\n",
        "```\n",
        "\n",
        "\n",
        "\n",
        "\n",
        "Psychometrics is an area that is growing rapidly worldwide: while many still measure psychological phenomena without having evidence that the measurement has some quality or validity evidence, others continue on the more difficult, but much more precise and scientific, path. The book ***Advances in Psychometric Theory and Measurement for Psychological Sciences: with examples in R*** is the first book that makes psychometric science and measurement theory more accessible to you, the reader. Covering classical and modern views on psychometrics, I introduce concepts crucial to understanding psychometrics. This book is aimed at students and teachers who wish to use and understand psychometrics in depth. It's a great resource for studying alone or for study groups.\n",
        "\n",
        "In this book I teach the theory behind the concept of the analysis, but I also teach how to run the analysis in the R programming language. We use R because it is free, accessible, and easy to use. I know you're afraid of using R, but I'll do everything I can to make sure you understand what you're going to do in your analyses.\n",
        "\n",
        "This book is intended to be an educational resource for everyone. The content is written in an accessible way and it is possible to deduce conclusions, without being shallow or wrong.\n",
        "\n",
        "This book integrates information from my [website](https://www.consultoriapsicometria.com/en) and my [scientific work](https://scholar.google.com.br/citations?user=xCjGr7AAAAJ&hl=en) , in addition to several other works that are at the cutting edge of knowledge. The purpose of this book being online is to make the information more accessible and easier to update in the future.\n",
        "\n",
        "If you find any mistakes or have suggestions for improvement, you can [submit an issue on the GitHub page](https://github.com/rafavsbastos/psychometrics_book/issues) of this open educational resource. You can also download a PDF or epub version (click the download button in the menu on the top left). This work is shared under a [CC-BY-NC-SA License](https://creativecommons.org/licenses/by-nc-sa/4.0).\n",
        "\n",
        "## Support my work {.unnumbered}\n",
        "\n",
        "Please help keep this book maintained and free for everyone by supporting me through [my Ko-fi page](https://ko-fi.com/rafaelbastos).\n",
        "\n",
        "## How to cite this book {.unnumbered}\n",
        "\n",
        "You can cite this book as:\n",
        "\n",
        "**Bastos, R. V. S. (2024). Advances in Psychometric Theory and Measurement for Psychological Sciences: with examples in R. DOI:**\n",
        "\n",
        "![Photo of the author Rafael Valdece Sousa Bastos](images/me.png){fig-alt=\"Photo of the author Rafael Valdece Sousa Bastos\" natwidth=\"300\" fig-align=\"center\" width=\"300\"}\n",
        "\n",
        "I dedicate this work to Phoebe, my lifelong love and partner."
      ],
      "id": "2c7d8708"
    }
  ],
  "metadata": {
    "kernelspec": {
      "display_name": "Python 3",
      "language": "python",
      "name": "python3"
    }
  },
  "nbformat": 4,
  "nbformat_minor": 5
}